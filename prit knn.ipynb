{
 "cells": [
  {
   "cell_type": "code",
   "execution_count": 34,
   "metadata": {},
   "outputs": [],
   "source": [
    "import numpy as np\n",
    "import cv2\n"
   ]
  },
  {
   "cell_type": "code",
   "execution_count": 35,
   "metadata": {},
   "outputs": [],
   "source": [
    "with_mask = np.load('with_mask_photo.npy')"
   ]
  },
  {
   "cell_type": "code",
   "execution_count": 36,
   "metadata": {},
   "outputs": [
    {
     "data": {
      "text/plain": [
       "(1000, 50, 50, 3)"
      ]
     },
     "execution_count": 36,
     "metadata": {},
     "output_type": "execute_result"
    }
   ],
   "source": [
    "with_mask.shape"
   ]
  },
  {
   "cell_type": "code",
   "execution_count": 5,
   "metadata": {},
   "outputs": [],
   "source": [
    "without_mask=np.load('without_mask_photo.npy')"
   ]
  },
  {
   "cell_type": "code",
   "execution_count": 37,
   "metadata": {},
   "outputs": [
    {
     "data": {
      "text/plain": [
       "(1000, 7500)"
      ]
     },
     "execution_count": 37,
     "metadata": {},
     "output_type": "execute_result"
    }
   ],
   "source": [
    "without_mask.shape"
   ]
  },
  {
   "cell_type": "code",
   "execution_count": 38,
   "metadata": {},
   "outputs": [],
   "source": [
    "with_mask = with_mask.reshape(1000,50*50*3)\n",
    "without_mask =without_mask.reshape(1000,50*50*3)\n"
   ]
  },
  {
   "cell_type": "code",
   "execution_count": 39,
   "metadata": {},
   "outputs": [
    {
     "data": {
      "text/plain": [
       "(1000, 7500)"
      ]
     },
     "execution_count": 39,
     "metadata": {},
     "output_type": "execute_result"
    }
   ],
   "source": [
    "with_mask.shape     \n",
    "without_mask.shape     "
   ]
  },
  {
   "cell_type": "code",
   "execution_count": 40,
   "metadata": {},
   "outputs": [],
   "source": [
    "X = np.r_[with_mask , without_mask]\n"
   ]
  },
  {
   "cell_type": "code",
   "execution_count": 41,
   "metadata": {},
   "outputs": [
    {
     "data": {
      "text/plain": [
       "(2000, 7500)"
      ]
     },
     "execution_count": 41,
     "metadata": {},
     "output_type": "execute_result"
    }
   ],
   "source": [
    "X.shape"
   ]
  },
  {
   "cell_type": "code",
   "execution_count": 42,
   "metadata": {},
   "outputs": [],
   "source": [
    "labels = np.zeros(X.shape[0])"
   ]
  },
  {
   "cell_type": "code",
   "execution_count": 43,
   "metadata": {},
   "outputs": [],
   "source": [
    "labels[1000:] = 1.0"
   ]
  },
  {
   "cell_type": "code",
   "execution_count": 44,
   "metadata": {},
   "outputs": [],
   "source": [
    "names = {0:'Mask' , 1:'No_Mask'}"
   ]
  },
  {
   "cell_type": "code",
   "execution_count": 45,
   "metadata": {},
   "outputs": [],
   "source": [
    "from sklearn.svm import SVC\n",
    "from sklearn.metrics import accuracy_score\n",
    "\n",
    "from sklearn.model_selection import train_test_split\n"
   ]
  },
  {
   "cell_type": "code",
   "execution_count": 53,
   "metadata": {},
   "outputs": [],
   "source": [
    "x_train, x_test, y_train, y_test = train_test_split(X,labels,test_size=0.25)"
   ]
  },
  {
   "cell_type": "code",
   "execution_count": 54,
   "metadata": {},
   "outputs": [
    {
     "data": {
      "text/plain": [
       "(1500, 7500)"
      ]
     },
     "execution_count": 54,
     "metadata": {},
     "output_type": "execute_result"
    }
   ],
   "source": [
    "x_train.shape"
   ]
  },
  {
   "cell_type": "code",
   "execution_count": 48,
   "metadata": {},
   "outputs": [],
   "source": [
    "from sklearn.decomposition import PCA"
   ]
  },
  {
   "cell_type": "code",
   "execution_count": 49,
   "metadata": {},
   "outputs": [
    {
     "data": {
      "text/plain": [
       "(1500, 3)"
      ]
     },
     "execution_count": 49,
     "metadata": {},
     "output_type": "execute_result"
    }
   ],
   "source": [
    "'''pca = PCA(n_components=3)\n",
    "x_train = pca.fit_transform(x_train)\n",
    "\n",
    "x_train[0]\n",
    "\n",
    "x_train.shape\n",
    "'''\n"
   ]
  },
  {
   "cell_type": "code",
   "execution_count": 51,
   "metadata": {},
   "outputs": [],
   "source": [
    "from sklearn.neighbors import KNeighborsClassifier"
   ]
  },
  {
   "cell_type": "code",
   "execution_count": 55,
   "metadata": {},
   "outputs": [
    {
     "name": "stdout",
     "output_type": "stream",
     "text": [
      "\n",
      "CV Error for k = 1 is 3.200000000000003\n",
      "\n",
      "CV Error for k = 3 is 3.0\n",
      "\n",
      "CV Error for k = 5 is 3.200000000000003\n",
      "\n",
      "CV Error for k = 7 is 3.799999999999997\n",
      "\n",
      "CV Error for k = 9 is 3.6000000000000085\n",
      "\n",
      "CV Error for k = 11 is 3.4000000000000057\n",
      "\n",
      "CV Error for k = 13 is 3.6000000000000085\n",
      "\n",
      "CV Error for k = 15 is 3.6000000000000085\n",
      "\n",
      "CV Error for k = 17 is 3.799999999999997\n",
      "\n",
      "CV Error for k = 19 is 4.0\n",
      "\n",
      "CV Error for k = 21 is 4.200000000000003\n",
      "\n",
      "CV Error for k = 23 is 4.200000000000003\n",
      "\n",
      "CV Error for k = 25 is 5.0\n"
     ]
    }
   ],
   "source": [
    "#svm = SVC()\n",
    "#svm.fit(x_train, y_train)\n",
    "for k in range(1, 26, 2):\n",
    "    #initialize the classifier with k-value\n",
    "    knn_classifier = KNeighborsClassifier(n_neighbors = k, weights = 'distance', algorithm = 'auto', p = 2)\n",
    "    \n",
    "    #fitting the model on crossvalidation train\n",
    "    knn_classifier.fit(x_train, y_train)\n",
    "    \n",
    "    #predict  the response on the crossvalidation train\n",
    "    predicted = knn_classifier.predict(x_test)\n",
    "    \n",
    "    #evlauate the cross validation accuracy\n",
    "    accuracy = accuracy_score(y_test, predicted, normalize = True) * float(100)\n",
    "    print('\\nCV Error for k = {0} is {1}'.format(k, 100- accuracy))"
   ]
  },
  {
   "cell_type": "code",
   "execution_count": 24,
   "metadata": {},
   "outputs": [],
   "source": [
    "x_test = pca.transform(x_test)\n",
    "y_pred = svm.predict(x_test)\n"
   ]
  },
  {
   "cell_type": "code",
   "execution_count": 25,
   "metadata": {},
   "outputs": [
    {
     "data": {
      "text/plain": [
       "0.94"
      ]
     },
     "execution_count": 25,
     "metadata": {},
     "output_type": "execute_result"
    }
   ],
   "source": [
    "accuracy_score(y_test, y_pred)"
   ]
  },
  {
   "cell_type": "code",
   "execution_count": 56,
   "metadata": {},
   "outputs": [],
   "source": [
    "cap = cv2.VideoCapture(0)\n",
    "data = [ ]\n",
    "font = cv2.FONT_HERSHEY_COMPLEX\n"
   ]
  },
  {
   "cell_type": "code",
   "execution_count": 57,
   "metadata": {},
   "outputs": [],
   "source": [
    "face_cascade=cv2.CascadeClassifier(r'D:/new download/haarcascade_frontalface_default.xml')"
   ]
  },
  {
   "cell_type": "code",
   "execution_count": 58,
   "metadata": {},
   "outputs": [
    {
     "name": "stdout",
     "output_type": "stream",
     "text": [
      "No_Mask\n",
      "No_Mask\n",
      "No_Mask\n",
      "No_Mask\n",
      "No_Mask\n",
      "Mask\n",
      "No_Mask\n",
      "No_Mask\n",
      "No_Mask\n",
      "Mask\n",
      "No_Mask\n",
      "No_Mask\n",
      "No_Mask\n",
      "No_Mask\n",
      "No_Mask\n",
      "No_Mask\n",
      "No_Mask\n",
      "No_Mask\n",
      "No_Mask\n",
      "No_Mask\n",
      "No_Mask\n",
      "No_Mask\n",
      "No_Mask\n",
      "No_Mask\n",
      "No_Mask\n",
      "No_Mask\n",
      "No_Mask\n",
      "No_Mask\n",
      "No_Mask\n",
      "No_Mask\n",
      "No_Mask\n",
      "No_Mask\n",
      "No_Mask\n",
      "No_Mask\n",
      "No_Mask\n",
      "No_Mask\n",
      "No_Mask\n",
      "No_Mask\n",
      "No_Mask\n",
      "No_Mask\n",
      "No_Mask\n",
      "No_Mask\n",
      "Mask\n",
      "No_Mask\n",
      "No_Mask\n",
      "No_Mask\n",
      "Mask\n",
      "No_Mask\n",
      "No_Mask\n",
      "Mask\n",
      "No_Mask\n",
      "No_Mask\n",
      "No_Mask\n",
      "No_Mask\n",
      "No_Mask\n",
      "No_Mask\n",
      "No_Mask\n",
      "No_Mask\n",
      "No_Mask\n",
      "No_Mask\n",
      "No_Mask\n",
      "No_Mask\n",
      "No_Mask\n",
      "No_Mask\n",
      "No_Mask\n",
      "No_Mask\n",
      "No_Mask\n",
      "No_Mask\n",
      "No_Mask\n",
      "No_Mask\n",
      "No_Mask\n",
      "Mask\n",
      "No_Mask\n",
      "No_Mask\n",
      "No_Mask\n",
      "No_Mask\n",
      "No_Mask\n",
      "No_Mask\n",
      "No_Mask\n",
      "No_Mask\n",
      "No_Mask\n",
      "No_Mask\n",
      "No_Mask\n",
      "No_Mask\n",
      "No_Mask\n",
      "No_Mask\n",
      "No_Mask\n",
      "No_Mask\n",
      "No_Mask\n",
      "No_Mask\n",
      "No_Mask\n",
      "No_Mask\n",
      "No_Mask\n",
      "No_Mask\n",
      "No_Mask\n",
      "No_Mask\n",
      "No_Mask\n",
      "No_Mask\n",
      "No_Mask\n",
      "Mask\n",
      "No_Mask\n",
      "No_Mask\n",
      "No_Mask\n",
      "No_Mask\n",
      "No_Mask\n",
      "Mask\n",
      "No_Mask\n",
      "No_Mask\n",
      "No_Mask\n",
      "No_Mask\n",
      "No_Mask\n",
      "No_Mask\n",
      "No_Mask\n",
      "No_Mask\n",
      "No_Mask\n",
      "No_Mask\n",
      "No_Mask\n",
      "No_Mask\n",
      "No_Mask\n",
      "No_Mask\n",
      "No_Mask\n",
      "No_Mask\n",
      "No_Mask\n",
      "Mask\n",
      "No_Mask\n",
      "No_Mask\n",
      "No_Mask\n",
      "No_Mask\n",
      "No_Mask\n",
      "No_Mask\n",
      "No_Mask\n",
      "No_Mask\n",
      "Mask\n",
      "No_Mask\n",
      "No_Mask\n",
      "No_Mask\n",
      "No_Mask\n",
      "No_Mask\n",
      "No_Mask\n",
      "No_Mask\n",
      "No_Mask\n",
      "No_Mask\n",
      "No_Mask\n",
      "No_Mask\n",
      "No_Mask\n",
      "No_Mask\n",
      "No_Mask\n",
      "No_Mask\n",
      "No_Mask\n",
      "No_Mask\n",
      "No_Mask\n",
      "No_Mask\n",
      "No_Mask\n",
      "No_Mask\n",
      "No_Mask\n",
      "No_Mask\n",
      "No_Mask\n",
      "No_Mask\n",
      "No_Mask\n",
      "No_Mask\n",
      "No_Mask\n",
      "No_Mask\n",
      "No_Mask\n",
      "No_Mask\n",
      "Mask\n",
      "No_Mask\n",
      "No_Mask\n",
      "No_Mask\n",
      "No_Mask\n",
      "No_Mask\n",
      "No_Mask\n"
     ]
    }
   ],
   "source": [
    "while True:\n",
    "    flag, img = cap.read()\n",
    "    \n",
    "    if flag:\n",
    "   \n",
    "        faces = face_cascade.detectMultiScale(img)\n",
    "    \n",
    "    ###\n",
    "    for x,y,w,h in faces:\n",
    "        cv2.rectangle(img,(x,y),(x+w,y+h),(255,0,255), 4)\n",
    "        cv2.putText(img,'Face',(x,y),cv2.FONT_HERSHEY_COMPLEX,0.5,(250,250,250),1)\n",
    "        face = img[y:y+h, x:x+w, :]\n",
    "        face = cv2.resize(face , (50,50))\n",
    "        face = face.reshape(1, -1)\n",
    "        face = pca.transform(face)\n",
    "        pred = svm.predict(face)\n",
    "        n = names[int(pred)]\n",
    "        cv2.putText(img, n, (x,y), font, 1, (244,250,250), 2)\n",
    "        print(n)\n",
    "        \n",
    "    cv2.imshow('img',img)\n",
    "    \n",
    "    if cv2.waitKey(2) == 27:\n",
    "        break\n",
    "cap.release()\n",
    "cv2.destroyAllWindows()"
   ]
  },
  {
   "cell_type": "code",
   "execution_count": null,
   "metadata": {},
   "outputs": [],
   "source": []
  }
 ],
 "metadata": {
  "kernelspec": {
   "display_name": "Python 3",
   "language": "python",
   "name": "python3"
  },
  "language_info": {
   "codemirror_mode": {
    "name": "ipython",
    "version": 3
   },
   "file_extension": ".py",
   "mimetype": "text/x-python",
   "name": "python",
   "nbconvert_exporter": "python",
   "pygments_lexer": "ipython3",
   "version": "3.8.3"
  }
 },
 "nbformat": 4,
 "nbformat_minor": 4
}
